{
  "nbformat": 4,
  "nbformat_minor": 0,
  "metadata": {
    "colab": {
      "provenance": []
    },
    "kernelspec": {
      "name": "python3",
      "display_name": "Python 3"
    },
    "language_info": {
      "name": "python"
    }
  },
  "cells": [
    {
      "cell_type": "markdown",
      "source": [
        "# CHI-SQUARE TEST"
      ],
      "metadata": {
        "id": "EB1xj_wu0ST5"
      }
    },
    {
      "cell_type": "markdown",
      "source": [
        "# 1. state the hypothesis test"
      ],
      "metadata": {
        "id": "-l64JHeS-geq"
      }
    },
    {
      "cell_type": "code",
      "source": [
        "# State the null hypothesis and alternative hypothesis\n",
        "null_hypothesis = \"There is no statistically significant difference between the satisfaction levels for the two types of devices.\"\n",
        "alternative_hypothesis = \"There is a statistically significant difference between the satisfaction levels for the two types of devices.\"\n"
      ],
      "metadata": {
        "id": "PUCHVxHp3c0R"
      },
      "execution_count": null,
      "outputs": []
    },
    {
      "cell_type": "markdown",
      "source": [
        "# 2.computing the chi-square statistic"
      ],
      "metadata": {
        "id": "2LMeTxv3-rkY"
      }
    },
    {
      "cell_type": "code",
      "source": [
        "import pandas as pd\n",
        "import numpy as np\n",
        "from scipy.stats import chi2_contingency\n",
        "\n",
        "data = [[50, 70],\n",
        "        [80, 100],\n",
        "        [60, 90],\n",
        "        [30, 50],\n",
        "        [20, 50]]\n",
        "data = np.array(data)\n",
        "\n",
        "chi2, p, dof, expected = chi2_contingency(data)\n",
        "\n",
        "\n",
        "print(\"Chi-Square statistic:\", chi2)\n",
        "print(\"P-value:\", p)\n",
        "print(\"Degrees of freedom:\", dof)\n",
        "print(\"Expected frequencies:\")\n",
        "print(expected)\n"
      ],
      "metadata": {
        "colab": {
          "base_uri": "https://localhost:8080/"
        },
        "id": "sgnk3oRL3TgA",
        "outputId": "b5197911-d19d-4505-b828-864563c5eaed"
      },
      "execution_count": 7,
      "outputs": [
        {
          "output_type": "stream",
          "name": "stdout",
          "text": [
            "Chi-Square statistic: 5.638227513227513\n",
            "P-value: 0.22784371130697179\n",
            "Degrees of freedom: 4\n",
            "Expected frequencies:\n",
            "[[ 48.  72.]\n",
            " [ 72. 108.]\n",
            " [ 60.  90.]\n",
            " [ 32.  48.]\n",
            " [ 28.  42.]]\n"
          ]
        }
      ]
    },
    {
      "cell_type": "markdown",
      "source": [
        "# 3.determine the critical value"
      ],
      "metadata": {
        "id": "cNxEZLIf-9T8"
      }
    },
    {
      "cell_type": "code",
      "source": [
        "import scipy.stats as stats\n",
        "\n",
        "\n",
        "df = data.shape[0] - 1\n",
        "alpha = 0.05\n",
        "\n",
        "\n",
        "critical_value = stats.chi2.ppf(1 - alpha, df)\n",
        "print(\"Critical Value:\", critical_value)\n",
        "\n"
      ],
      "metadata": {
        "colab": {
          "base_uri": "https://localhost:8080/"
        },
        "id": "GoS6l8vf2EB1",
        "outputId": "e1d3bace-474e-419d-fd72-5da372797c7c"
      },
      "execution_count": 9,
      "outputs": [
        {
          "output_type": "stream",
          "name": "stdout",
          "text": [
            "Critical Value: 9.487729036781154\n"
          ]
        }
      ]
    },
    {
      "cell_type": "markdown",
      "source": [
        "# 4.make a decision"
      ],
      "metadata": {
        "id": "ysm4b4dC_GpC"
      }
    },
    {
      "cell_type": "code",
      "source": [
        "# Compare the Chi-Square statistic with the critical value\n",
        "if chi2 > critical_value:\n",
        "    print(\"Reject the null hypothesis.\")\n",
        "    print(\"There is a statistically significant difference between the satisfaction levels for the two types of devices.\")\n",
        "else:\n",
        "    print(\"Fail to reject the null hypothesis.\")\n",
        "    print(\"There is no statistically significant difference between the satisfaction levels for the two types of devices.\")\n"
      ],
      "metadata": {
        "colab": {
          "base_uri": "https://localhost:8080/"
        },
        "id": "MvhOrOnZ36EZ",
        "outputId": "893ccfcc-c4d2-40d8-ea9b-e6c466180edf"
      },
      "execution_count": 5,
      "outputs": [
        {
          "output_type": "stream",
          "name": "stdout",
          "text": [
            "Fail to reject the null hypothesis.\n",
            "There is no statistically significant difference between the satisfaction levels for the two types of devices.\n"
          ]
        }
      ]
    },
    {
      "cell_type": "markdown",
      "source": [
        "# HYPOTHESIS TESTING"
      ],
      "metadata": {
        "id": "cGopvjdw7BUf"
      }
    },
    {
      "cell_type": "markdown",
      "source": [
        "# 1. State the Hypotheses statement"
      ],
      "metadata": {
        "id": "TRx6Eo4O8whf"
      }
    },
    {
      "cell_type": "code",
      "source": [
        "# State the null and alternative hypotheses\n",
        "\n",
        "null_hypothesis = \"The mean weekly operating cost for restaurants is equal to the theoretical model.\"\n",
        "alternative_hypothesis = \"The mean weekly operating cost for restaurants is different from the theoretical model.\"\n"
      ],
      "metadata": {
        "id": "dKiGKEHW7LfJ"
      },
      "execution_count": 16,
      "outputs": []
    },
    {
      "cell_type": "markdown",
      "source": [
        "# 2.calculate the test statistic"
      ],
      "metadata": {
        "id": "6dXo00KQ9AO2"
      }
    },
    {
      "cell_type": "code",
      "source": [
        "import scipy.stats as stats\n",
        "\n",
        "x_bar = 3050\n",
        "mu = 1000 + 5 * 600\n",
        "sigma = 5 * 25\n",
        "n = 25\n",
        "t = (x_bar - mu) / (sigma / np.sqrt(n))\n",
        "\n",
        "print(\"Test statistic:\", t)\n"
      ],
      "metadata": {
        "id": "-hTP2qjZ7pvm",
        "outputId": "3f966f61-ecc9-4e4f-eb43-6c1b4b56286d",
        "colab": {
          "base_uri": "https://localhost:8080/"
        }
      },
      "execution_count": 17,
      "outputs": [
        {
          "output_type": "stream",
          "name": "stdout",
          "text": [
            "Test statistic: -38.0\n"
          ]
        }
      ]
    },
    {
      "cell_type": "markdown",
      "source": [
        "# 3.determine the critical value"
      ],
      "metadata": {
        "id": "Fw4eDH5c9fXJ"
      }
    },
    {
      "cell_type": "code",
      "source": [
        "alpha = 0.05\n",
        "critical_value = stats.norm.ppf(1 - alpha/2)\n",
        "\n",
        "print(\"Critical value:\", critical_value)\n"
      ],
      "metadata": {
        "id": "SKIW8gwQ8D-L",
        "outputId": "c88301d2-a9b9-4e60-a220-1947786a2cb2",
        "colab": {
          "base_uri": "https://localhost:8080/"
        }
      },
      "execution_count": 18,
      "outputs": [
        {
          "output_type": "stream",
          "name": "stdout",
          "text": [
            "Critical value: 1.959963984540054\n"
          ]
        }
      ]
    },
    {
      "cell_type": "markdown",
      "source": [
        "# 4.make a decision"
      ],
      "metadata": {
        "id": "Xdm9rack9zPC"
      }
    },
    {
      "cell_type": "code",
      "source": [
        "if abs(t) > critical_value:\n",
        "    print(\"Reject the null hypothesis.\")\n",
        "    print(\"There is sufficient evidence to suggest that the mean weekly operating cost for restaurants is different from the theoretical model.\")\n",
        "else:\n",
        "    print(\"Fail to reject the null hypothesis.\")\n",
        "    print(\"There is not sufficient evidence to suggest that the mean weekly operating cost for restaurants is different from the theoretical model.\")\n"
      ],
      "metadata": {
        "id": "PYD0VVKA8M6M",
        "outputId": "1840a678-e327-43be-a7b0-9f59822820b8",
        "colab": {
          "base_uri": "https://localhost:8080/"
        }
      },
      "execution_count": 19,
      "outputs": [
        {
          "output_type": "stream",
          "name": "stdout",
          "text": [
            "Reject the null hypothesis.\n",
            "There is sufficient evidence to suggest that the mean weekly operating cost for restaurants is different from the theoretical model.\n"
          ]
        }
      ]
    },
    {
      "cell_type": "markdown",
      "source": [
        "# 5.conclusion"
      ],
      "metadata": {
        "id": "QddAiFY_-Ess"
      }
    },
    {
      "cell_type": "code",
      "source": [
        "if abs(t) > critical_value:\n",
        "    print(\"There is strong evidence to support the restaurant owners' claim that the weekly operating costs are higher than the model suggests.\")\n",
        "else:\n",
        "    print(\"There is not strong evidence to support the restaurant owners' claim that the weekly operating costs are higher than the model suggests.\")\n"
      ],
      "metadata": {
        "id": "I3s4GMAg8bin",
        "outputId": "e9d6fd6b-c1e5-4e5f-9010-b775fb240be6",
        "colab": {
          "base_uri": "https://localhost:8080/"
        }
      },
      "execution_count": 15,
      "outputs": [
        {
          "output_type": "stream",
          "name": "stdout",
          "text": [
            "There is strong evidence to support the restaurant owners' claim that the weekly operating costs are higher than the model suggests.\n"
          ]
        }
      ]
    }
  ]
}