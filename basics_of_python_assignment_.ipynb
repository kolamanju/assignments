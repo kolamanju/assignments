{
  "cells": [
    {
      "cell_type": "code",
      "execution_count": null,
      "metadata": {
        "colab": {
          "base_uri": "https://localhost:8080/"
        },
        "id": "dptgbX1YnpFt",
        "outputId": "73884287-21d1-4a0a-f39c-5bc06fdd1647"
      },
      "outputs": [
        {
          "name": "stdout",
          "output_type": "stream",
          "text": [
            "enter the number:27\n",
            "prime\n"
          ]
        }
      ],
      "source": [
        "# check prime numbers or not\n",
        "\n",
        "#define a function named is_prime that takes one argument,'n'\n",
        "def is_prime(n):\n",
        "\n",
        "   #  check if n is greater than 1\n",
        "    if n>1:\n",
        "        #iterate  through each number, from 2 to n\n",
        "        for num in range (2,n):\n",
        "            #check  if condition\n",
        "            if n%num ==0:\n",
        "                return \"not a prime\"\n",
        "            return \"prime\"\n",
        "        return \"not a prime\"\n",
        "\n",
        "# input sentance\n",
        "d=int(input(\"enter the number:\"))\n",
        "\n",
        "#call the function and print the results.\n",
        "print(is_prime(d))"
      ]
    },
    {
      "cell_type": "code",
      "execution_count": null,
      "metadata": {
        "colab": {
          "base_uri": "https://localhost:8080/"
        },
        "id": "VlpCs97wMDLB",
        "outputId": "46073432-76cc-4db4-e3f7-0c827186dc65"
      },
      "outputs": [
        {
          "name": "stdout",
          "output_type": "stream",
          "text": [
            " enter the number of random numbers to generate: 5\n",
            "generated random number : [1, 6, 7, 8, 10]\n",
            "product of random numbers: 3360\n"
          ]
        }
      ],
      "source": [
        "#product of random numbers\n",
        "\n",
        "import random\n",
        "\n",
        "#define a function named generate_random_number that takes argument,'count'\n",
        "def generate_random_numbers(count):\n",
        "     return[random.randint(1,10)for _ in range(count)]\n",
        "#define a funtion name calculate_product that takes argument,'number'\n",
        "def calculate_product(numbers):\n",
        "    product = 1\n",
        "    for num in numbers:\n",
        "        product *= num\n",
        "    return product\n",
        "#checks if condition\n",
        "if __name__ == \"__main__\":\n",
        "    count = int(input(\" enter the number of random numbers to generate: \"))\n",
        "    random_numbers = generate_random_numbers(count)\n",
        "    print(\"generated random number :\",random_numbers)\n",
        "    product = calculate_product(random_numbers)\n",
        "    print(\"product of random numbers:\", product)\n",
        "\n"
      ]
    },
    {
      "cell_type": "code",
      "execution_count": null,
      "metadata": {
        "colab": {
          "base_uri": "https://localhost:8080/"
        },
        "id": "0vnhjfJKOaSZ",
        "outputId": "db82b07f-2eb7-46d4-9921-9aaab7feddb6"
      },
      "outputs": [
        {
          "name": "stdout",
          "output_type": "stream",
          "text": [
            "The square of 100 is:10000 \n",
            "The square of 102 is:10404 \n",
            "The square of 104 is:10816 \n",
            "The square of 106 is:11236 \n",
            "The square of 108 is:11664 \n",
            "The square of 110 is:12100 \n",
            "The square of 112 is:12544 \n",
            "The square of 114 is:12996 \n",
            "The square of 116 is:13456 \n",
            "The square of 118 is:13924 \n",
            "The square of 120 is:14400 \n",
            "The square of 122 is:14884 \n",
            "The square of 124 is:15376 \n",
            "The square of 126 is:15876 \n",
            "The square of 128 is:16384 \n",
            "The square of 130 is:16900 \n",
            "The square of 132 is:17424 \n",
            "The square of 134 is:17956 \n",
            "The square of 136 is:18496 \n",
            "The square of 138 is:19044 \n",
            "The square of 140 is:19600 \n",
            "The square of 142 is:20164 \n",
            "The square of 144 is:20736 \n",
            "The square of 146 is:21316 \n",
            "The square of 148 is:21904 \n",
            "The square of 150 is:22500 \n",
            "The square of 152 is:23104 \n",
            "The square of 154 is:23716 \n",
            "The square of 156 is:24336 \n",
            "The square of 158 is:24964 \n",
            "The square of 160 is:25600 \n",
            "The square of 162 is:26244 \n",
            "The square of 164 is:26896 \n",
            "The square of 166 is:27556 \n",
            "The square of 168 is:28224 \n",
            "The square of 170 is:28900 \n",
            "The square of 172 is:29584 \n",
            "The square of 174 is:30276 \n",
            "The square of 176 is:30976 \n",
            "The square of 178 is:31684 \n",
            "The square of 180 is:32400 \n",
            "The square of 182 is:33124 \n",
            "The square of 184 is:33856 \n",
            "The square of 186 is:34596 \n",
            "The square of 188 is:35344 \n",
            "The square of 190 is:36100 \n",
            "The square of 192 is:36864 \n",
            "The square of 194 is:37636 \n",
            "The square of 196 is:38416 \n",
            "The square of 198 is:39204 \n",
            "The square of 200 is:40000 \n",
            "None\n"
          ]
        }
      ],
      "source": [
        "# squares of even/odd numbers\n",
        "\n",
        "#define a function\n",
        "def square_even():\n",
        "\n",
        "  #iteration range from 100 to 201\n",
        "  for i in range(100 ,201):\n",
        "\n",
        "    # check if i%2 == 0\n",
        "    if i % 2 == 0:\n",
        "      square = i ** 2\n",
        "      print(f\"The square of {i} is:{square} \")\n",
        "#call the function and prints\n",
        "print(square_even())\n"
      ]
    },
    {
      "cell_type": "code",
      "execution_count": null,
      "metadata": {
        "colab": {
          "base_uri": "https://localhost:8080/"
        },
        "id": "CDB2ct8MO4Ll",
        "outputId": "47acfca8-e9a7-46a1-e7c2-cd414ed9685c"
      },
      "outputs": [
        {
          "name": "stdout",
          "output_type": "stream",
          "text": [
            "{'the': 2, 'quick': 1, 'brown': 1, 'for': 1, 'jumps': 1, 'over': 1, 'lazy': 1, 'dog.': 1}\n"
          ]
        }
      ],
      "source": [
        "# word counter\n",
        "\n",
        "\n",
        "\n",
        "# define a funtion\n",
        "def word_count(str):\n",
        "\n",
        "  # create an empty dictionary name 'counts' to store word frequencies\n",
        "  counts = dict()\n",
        "\n",
        "  #spilts the input string into  a list of words\n",
        "  words = str.split()\n",
        "\n",
        "  #iterate through each word  in the 'words' list\n",
        "  for word in words:\n",
        "\n",
        "    #check if the words is already in the 'counts' dictionary.\n",
        "    if word in counts:\n",
        "      #check if the words is already in the dictionary , increment  its frequency by 1\n",
        "      counts[word] += 1\n",
        "    else:\n",
        "      #if the word is not in the dictionary , add it to the dictionary with a frequency of 1\n",
        "      counts[word] = 1\n",
        "\n",
        "  # return the 'counts' dictionary, with contains word frequencies\n",
        "  return counts\n",
        "\n",
        "  #call the function with an input sentence and print the results.\n",
        "print(word_count('the quick brown for jumps over the lazy dog. '))\n"
      ]
    },
    {
      "cell_type": "code",
      "execution_count": null,
      "metadata": {
        "colab": {
          "base_uri": "https://localhost:8080/"
        },
        "id": "Lv7G01lbOuar",
        "outputId": "5c6c4fae-8319-4fad-fb8b-235bd59f4785"
      },
      "outputs": [
        {
          "name": "stdout",
          "output_type": "stream",
          "text": [
            "True\n"
          ]
        }
      ],
      "source": [
        "# check for palindrome\n",
        "def is_palindrome(s):\n",
        "  return s == s[ : : -1]\n",
        "s = \"repaper\"\n",
        "ans = is_palindrome(s)\n",
        "if ans:\n",
        "  print(\"True\")\n",
        "else:\n",
        "  print(\"False\")"
      ]
    }
  ],
  "metadata": {
    "colab": {
      "provenance": []
    },
    "kernelspec": {
      "display_name": "Python 3",
      "name": "python3"
    },
    "language_info": {
      "name": "python"
    }
  },
  "nbformat": 4,
  "nbformat_minor": 0
}
